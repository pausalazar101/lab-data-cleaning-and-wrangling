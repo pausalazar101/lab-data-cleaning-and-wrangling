{
 "cells": [
  {
   "cell_type": "code",
   "execution_count": 3,
   "id": "48f38a6b-c428-4ce6-aefa-0c7da6cd81e2",
   "metadata": {},
   "outputs": [],
   "source": [
    "import pandas as pd\n",
    "import numpy as np\n",
    "import datetime\n",
    "import warnings\n",
    "import re\n",
    "from sklearn.linear_model import LinearRegression\n",
    "\n",
    "warnings.filterwarnings('ignore')\n",
    "warnings.filterwarnings(\"ignore\", message=\"numpy.ufunc size changed\")\n",
    "\n",
    "import matplotlib.pyplot as plt\n",
    "import seaborn as sns\n",
    "%matplotlib inline\n",
    "\n",
    "pd.set_option('display.max_columns', None)"
   ]
  },
  {
   "cell_type": "code",
   "execution_count": 12,
   "id": "bdd73697-2f60-4336-9c6b-8227e93bea63",
   "metadata": {},
   "outputs": [
    {
     "data": {
      "text/plain": [
       "(9134, 24)"
      ]
     },
     "execution_count": 12,
     "metadata": {},
     "output_type": "execute_result"
    }
   ],
   "source": [
    "df = pd.read_csv('we_fn_use_c_marketing_customer_value_analysis.csv')\n",
    "df.shape"
   ]
  },
  {
   "cell_type": "code",
   "execution_count": 9,
   "id": "5e3f39e0-9cc4-4673-a150-f1a225795bf6",
   "metadata": {},
   "outputs": [
    {
     "data": {
      "text/plain": [
       "Customer                          object\n",
       "State                             object\n",
       "Customer Lifetime Value          float64\n",
       "Response                          object\n",
       "Coverage                          object\n",
       "Education                         object\n",
       "Effective To Date                 object\n",
       "EmploymentStatus                  object\n",
       "Gender                            object\n",
       "Income                             int64\n",
       "Location Code                     object\n",
       "Marital Status                    object\n",
       "Monthly Premium Auto               int64\n",
       "Months Since Last Claim            int64\n",
       "Months Since Policy Inception      int64\n",
       "Number of Open Complaints          int64\n",
       "Number of Policies                 int64\n",
       "Policy Type                       object\n",
       "Policy                            object\n",
       "Renew Offer Type                  object\n",
       "Sales Channel                     object\n",
       "Total Claim Amount               float64\n",
       "Vehicle Class                     object\n",
       "Vehicle Size                      object\n",
       "dtype: object"
      ]
     },
     "execution_count": 9,
     "metadata": {},
     "output_type": "execute_result"
    }
   ],
   "source": [
    "df.dtypes"
   ]
  },
  {
   "cell_type": "code",
   "execution_count": 10,
   "id": "502715ea-d3c9-4d9b-8aef-9523e3a1c1d4",
   "metadata": {},
   "outputs": [],
   "source": [
    "import numpy as np\n",
    "\n",
    "numericals = df.select_dtypes(include=np.number).columns\n",
    "\n",
    "bounds = {}\n",
    "for column in numericals:\n",
    "    q1 = df[column].quantile(0.25)\n",
    "    q3 = df[column].quantile(0.75)\n",
    "    iqr = q3 - q1\n",
    "    lower_bound = q1 - 1.5 * iqr\n",
    "    upper_bound = q3 + 1.5 * iqr\n",
    "    bounds[column] = (lower_bound, upper_bound)\n",
    "\n",
    "filtered_df = df.copy()\n",
    "for column, (lower_bound, upper_bound) in bounds.items():\n",
    "    filtered_df = filtered_df[(filtered_df[column] >= lower_bound) & (filtered_df[column] <= upper_bound)]\n"
   ]
  },
  {
   "cell_type": "code",
   "execution_count": 13,
   "id": "cb45d551-ada7-475f-bcc5-9840a2b6e828",
   "metadata": {},
   "outputs": [
    {
     "data": {
      "text/plain": [
       "(5911, 24)"
      ]
     },
     "execution_count": 13,
     "metadata": {},
     "output_type": "execute_result"
    }
   ],
   "source": [
    "filtered_df.shape"
   ]
  },
  {
   "cell_type": "code",
   "execution_count": null,
   "id": "91b80282-1858-4d9e-be5b-9c36e074f5d8",
   "metadata": {},
   "outputs": [],
   "source": [
    "df.hist(figsize=(10, 6))\n",
    "plt.tight_layout()\n",
    "plt.show()\n"
   ]
  },
  {
   "cell_type": "code",
   "execution_count": 15,
   "id": "b0234caf-7ff7-4c22-9bc1-0b330bd19b0f",
   "metadata": {},
   "outputs": [],
   "source": [
    "from sklearn.preprocessing import MinMaxScaler\n",
    "\n",
    "continuous_columns = ['Customer Lifetime Value', 'Income', 'Monthly Premium Auto',\n",
    "                      'Months Since Last Claim', 'Months Since Policy Inception', 'Total Claim Amount']\n",
    "\n",
    "scaler = MinMaxScaler()\n",
    "\n",
    "df[continuous_columns] = scaler.fit_transform(df[continuous_columns])\n"
   ]
  },
  {
   "cell_type": "code",
   "execution_count": 16,
   "id": "c904826e-e850-482e-85d3-f6219425eca9",
   "metadata": {},
   "outputs": [
    {
     "data": {
      "image/png": "[encoded data removed]",
      "text/plain": [
       "<Figure size 720x432 with 9 Axes>"
      ]
     },
     "metadata": {
      "needs_background": "light"
     },
     "output_type": "display_data"
    }
   ],
   "source": [
    "df.hist(figsize=(10, 6))\n",
    "plt.tight_layout()\n",
    "plt.show()\n"
   ]
  },
  {
   "cell_type": "code",
   "execution_count": 17,
   "id": "86e69b85-ca1f-4f5e-9f48-2974d59df386",
   "metadata": {},
   "outputs": [],
   "source": [
    "df['Number of Open Complaints'] = df['Number of Open Complaints'].astype(str)\n",
    "df['Number of Policies'] = df['Number of Policies'].astype(str)\n"
   ]
  },
  {
   "cell_type": "code",
   "execution_count": 19,
   "id": "733aabcd-e437-4cd4-8445-9851189bf3fa",
   "metadata": {},
   "outputs": [
    {
     "data": {
      "text/plain": [
       "Customer                          object\n",
       "State                             object\n",
       "Customer Lifetime Value          float64\n",
       "Response                          object\n",
       "Coverage                          object\n",
       "Education                         object\n",
       "Effective To Date                 object\n",
       "EmploymentStatus                  object\n",
       "Gender                            object\n",
       "Income                           float64\n",
       "Location Code                     object\n",
       "Marital Status                    object\n",
       "Monthly Premium Auto             float64\n",
       "Months Since Last Claim          float64\n",
       "Months Since Policy Inception    float64\n",
       "Number of Open Complaints         object\n",
       "Number of Policies                object\n",
       "Policy Type                       object\n",
       "Policy                            object\n",
       "Renew Offer Type                  object\n",
       "Sales Channel                     object\n",
       "Total Claim Amount               float64\n",
       "Vehicle Class                     object\n",
       "Vehicle Size                      object\n",
       "dtype: object"
      ]
     },
     "execution_count": 19,
     "metadata": {},
     "output_type": "execute_result"
    }
   ],
   "source": [
    "df.dtypes"
   ]
  },
  {
   "cell_type": "code",
   "execution_count": 20,
   "id": "0f8f34d1-5049-456e-b595-40e3e52fba40",
   "metadata": {},
   "outputs": [],
   "source": [
    "from sklearn.preprocessing import LabelEncoder\n",
    "\n",
    "label_encoder = LabelEncoder()\n",
    "\n",
    "object_columns = df.select_dtypes(include=['object']).columns\n",
    "\n",
    "for column in object_columns:\n",
    "    df[column] = label_encoder.fit_transform(df[column])\n"
   ]
  },
  {
   "cell_type": "code",
   "execution_count": 21,
   "id": "0e065a49-fff2-41f4-92e0-f994f4c0423c",
   "metadata": {},
   "outputs": [],
   "source": [
    "\n",
    "df['Effective To Date'] = pd.to_datetime(df['Effective To Date'])\n",
    "\n",
    "df['Day'] = df['Effective To Date'].dt.day\n",
    "df['Month'] = df['Effective To Date'].dt.month\n",
    "df['Year'] = df['Effective To Date'].dt.year\n",
    "\n",
    "df['Day'] = df['Day'].astype(int)\n",
    "df['Month'] = df['Month'].astype(int)\n",
    "df['Year'] = df['Year'].astype(int)\n",
    "\n",
    "\n",
    "df = df.drop('Effective To Date', axis=1)"
   ]
  },
  {
   "cell_type": "code",
   "execution_count": 22,
   "id": "89b4f51a-b0c7-43da-bc5e-2ca37cda8a03",
   "metadata": {},
   "outputs": [
    {
     "data": {
      "text/plain": [
       "Customer                           int64\n",
       "State                              int64\n",
       "Customer Lifetime Value          float64\n",
       "Response                           int64\n",
       "Coverage                           int64\n",
       "Education                          int64\n",
       "EmploymentStatus                   int64\n",
       "Gender                             int64\n",
       "Income                           float64\n",
       "Location Code                      int64\n",
       "Marital Status                     int64\n",
       "Monthly Premium Auto             float64\n",
       "Months Since Last Claim          float64\n",
       "Months Since Policy Inception    float64\n",
       "Number of Open Complaints          int64\n",
       "Number of Policies                 int64\n",
       "Policy Type                        int64\n",
       "Policy                             int64\n",
       "Renew Offer Type                   int64\n",
       "Sales Channel                      int64\n",
       "Total Claim Amount               float64\n",
       "Vehicle Class                      int64\n",
       "Vehicle Size                       int64\n",
       "Day                                int64\n",
       "Month                              int64\n",
       "Year                               int64\n",
       "dtype: object"
      ]
     },
     "execution_count": 22,
     "metadata": {},
     "output_type": "execute_result"
    }
   ],
   "source": [
    "df.dtypes"
   ]
  },
  {
   "cell_type": "code",
   "execution_count": null,
   "id": "17a858d3-218a-4f6d-962f-1342b9de474a",
   "metadata": {},
   "outputs": [],
   "source": []
  },
  {
   "cell_type": "code",
   "execution_count": null,
   "id": "83d28032-bb28-4813-91b2-53bcd8b34545",
   "metadata": {},
   "outputs": [],
   "source": []
  }
 ],
 "metadata": {
  "kernelspec": {
   "display_name": "Python 3 (ipykernel)",
   "language": "python",
   "name": "python3"
  },
  "language_info": {
   "codemirror_mode": {
    "name": "ipython",
    "version": 3
   },
   "file_extension": ".py",
   "mimetype": "text/x-python",
   "name": "python",
   "nbconvert_exporter": "python",
   "pygments_lexer": "ipython3",
   "version": "3.9.12"
  }
 },
 "nbformat": 4,
 "nbformat_minor": 5
}
